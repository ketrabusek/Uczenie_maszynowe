{
  "nbformat": 4,
  "nbformat_minor": 0,
  "metadata": {
    "colab": {
      "provenance": [],
      "authorship_tag": "ABX9TyNa8fmQjPk9TGYlM8CJuEvz",
      "include_colab_link": true
    },
    "kernelspec": {
      "name": "python3",
      "display_name": "Python 3"
    },
    "language_info": {
      "name": "python"
    }
  },
  "cells": [
    {
      "cell_type": "markdown",
      "metadata": {
        "id": "view-in-github",
        "colab_type": "text"
      },
      "source": [
        "<a href=\"https://colab.research.google.com/github/ketrabusek/Uczenie_maszynowe/blob/use_case1/Untitled0.ipynb\" target=\"_parent\"><img src=\"https://colab.research.google.com/assets/colab-badge.svg\" alt=\"Open In Colab\"/></a>"
      ]
    },
    {
      "cell_type": "code",
      "execution_count": 1,
      "metadata": {
        "colab": {
          "base_uri": "https://localhost:8080/"
        },
        "id": "R9qkWdIHvpbQ",
        "outputId": "5be5e0e7-0b26-43ec-e07c-9c7b77a568e0"
      },
      "outputs": [
        {
          "output_type": "stream",
          "name": "stdout",
          "text": [
            "            Time         V1         V2        V3        V4        V5  \\\n",
            "0            0.0  -1.359807  -0.072781  2.536347  1.378155 -0.338321   \n",
            "1            0.0   1.191857   0.266151  0.166480  0.448154  0.060018   \n",
            "2            1.0  -1.358354  -1.340163  1.773209  0.379780 -0.503198   \n",
            "3            1.0  -0.966272  -0.185226  1.792993 -0.863291 -0.010309   \n",
            "4            2.0  -1.158233   0.877737  1.548718  0.403034 -0.407193   \n",
            "...          ...        ...        ...       ...       ...       ...   \n",
            "284802  172786.0 -11.881118  10.071785 -9.834783 -2.066656 -5.364473   \n",
            "284803  172787.0  -0.732789  -0.055080  2.035030 -0.738589  0.868229   \n",
            "284804  172788.0   1.919565  -0.301254 -3.249640 -0.557828  2.630515   \n",
            "284805  172788.0  -0.240440   0.530483  0.702510  0.689799 -0.377961   \n",
            "284806  172792.0  -0.533413  -0.189733  0.703337 -0.506271 -0.012546   \n",
            "\n",
            "              V6        V7        V8        V9  ...       V21       V22  \\\n",
            "0       0.462388  0.239599  0.098698  0.363787  ... -0.018307  0.277838   \n",
            "1      -0.082361 -0.078803  0.085102 -0.255425  ... -0.225775 -0.638672   \n",
            "2       1.800499  0.791461  0.247676 -1.514654  ...  0.247998  0.771679   \n",
            "3       1.247203  0.237609  0.377436 -1.387024  ... -0.108300  0.005274   \n",
            "4       0.095921  0.592941 -0.270533  0.817739  ... -0.009431  0.798278   \n",
            "...          ...       ...       ...       ...  ...       ...       ...   \n",
            "284802 -2.606837 -4.918215  7.305334  1.914428  ...  0.213454  0.111864   \n",
            "284803  1.058415  0.024330  0.294869  0.584800  ...  0.214205  0.924384   \n",
            "284804  3.031260 -0.296827  0.708417  0.432454  ...  0.232045  0.578229   \n",
            "284805  0.623708 -0.686180  0.679145  0.392087  ...  0.265245  0.800049   \n",
            "284806 -0.649617  1.577006 -0.414650  0.486180  ...  0.261057  0.643078   \n",
            "\n",
            "             V23       V24       V25       V26       V27       V28  Amount  \\\n",
            "0      -0.110474  0.066928  0.128539 -0.189115  0.133558 -0.021053  149.62   \n",
            "1       0.101288 -0.339846  0.167170  0.125895 -0.008983  0.014724    2.69   \n",
            "2       0.909412 -0.689281 -0.327642 -0.139097 -0.055353 -0.059752  378.66   \n",
            "3      -0.190321 -1.175575  0.647376 -0.221929  0.062723  0.061458  123.50   \n",
            "4      -0.137458  0.141267 -0.206010  0.502292  0.219422  0.215153   69.99   \n",
            "...          ...       ...       ...       ...       ...       ...     ...   \n",
            "284802  1.014480 -0.509348  1.436807  0.250034  0.943651  0.823731    0.77   \n",
            "284803  0.012463 -1.016226 -0.606624 -0.395255  0.068472 -0.053527   24.79   \n",
            "284804 -0.037501  0.640134  0.265745 -0.087371  0.004455 -0.026561   67.88   \n",
            "284805 -0.163298  0.123205 -0.569159  0.546668  0.108821  0.104533   10.00   \n",
            "284806  0.376777  0.008797 -0.473649 -0.818267 -0.002415  0.013649  217.00   \n",
            "\n",
            "        Class  \n",
            "0           0  \n",
            "1           0  \n",
            "2           0  \n",
            "3           0  \n",
            "4           0  \n",
            "...       ...  \n",
            "284802      0  \n",
            "284803      0  \n",
            "284804      0  \n",
            "284805      0  \n",
            "284806      0  \n",
            "\n",
            "[284807 rows x 31 columns]\n"
          ]
        }
      ],
      "source": [
        "import pandas as pd\n",
        "\n",
        "file_path = '/content/creditcard.csv'\n",
        "df = pd.read_csv(file_path)\n",
        "\n",
        "print(df)\n"
      ]
    },
    {
      "cell_type": "code",
      "source": [
        "target_count = df['Class'].value_counts()\n",
        "target_count"
      ],
      "metadata": {
        "colab": {
          "base_uri": "https://localhost:8080/"
        },
        "id": "g82N5vhD4Ame",
        "outputId": "0ce637e9-8f59-42ef-d5a9-eab6b9403153"
      },
      "execution_count": 2,
      "outputs": [
        {
          "output_type": "execute_result",
          "data": {
            "text/plain": [
              "0    284315\n",
              "1       492\n",
              "Name: Class, dtype: int64"
            ]
          },
          "metadata": {},
          "execution_count": 2
        }
      ]
    },
    {
      "cell_type": "code",
      "source": [
        "from sklearn.model_selection import train_test_split\n",
        "from sklearn.neighbors import KNeighborsClassifier\n",
        "from sklearn.metrics import accuracy_score, classification_report\n",
        "X = df.drop(columns=['Class'])  # Features\n",
        "y = df['Class']  # Labels\n",
        "# Podziel dane na zbiór treningowy i testowy\n",
        "X_train, X_test, y_train, y_test = train_test_split(X, y, test_size=0.2, random_state=42)\n",
        "\n",
        "# Inicjalizuj klasyfikator k-NN\n",
        "knn_classifier = KNeighborsClassifier(n_neighbors=3)  # Możesz dostosować wartość k (liczbę sąsiadów)\n",
        "\n",
        "# Trenuj klasyfikator na zbiorze treningowym\n",
        "knn_classifier.fit(X_train, y_train)\n",
        "\n",
        "# Przewiduj etykiety dla zbioru testowego\n",
        "y_pred = knn_classifier.predict(X_test)\n",
        "\n",
        "# Ocen dokładność klasyfikatora\n",
        "accuracy = accuracy_score(y_test, y_pred)\n",
        "print(f'Dokładność klasyfikatora: {accuracy:.2f}')\n",
        "\n",
        "# Wyświetl raport klasyfikacji\n",
        "classification_rep = classification_report(y_test, y_pred)\n",
        "print('Raport klasyfikacji:\\n', classification_rep)"
      ],
      "metadata": {
        "colab": {
          "base_uri": "https://localhost:8080/"
        },
        "id": "IYzjmgSq2vaZ",
        "outputId": "de23c595-2be8-4bf4-d70f-844bb95d39cb"
      },
      "execution_count": 4,
      "outputs": [
        {
          "output_type": "stream",
          "name": "stdout",
          "text": [
            "Dokładność klasyfikatora: 1.00\n",
            "Raport klasyfikacji:\n",
            "               precision    recall  f1-score   support\n",
            "\n",
            "           0       1.00      1.00      1.00     56864\n",
            "           1       1.00      0.09      0.17        98\n",
            "\n",
            "    accuracy                           1.00     56962\n",
            "   macro avg       1.00      0.55      0.58     56962\n",
            "weighted avg       1.00      1.00      1.00     56962\n",
            "\n"
          ]
        }
      ]
    },
    {
      "cell_type": "code",
      "source": [
        "from sklearn.metrics import accuracy_score, classification_report, confusion_matrix, roc_auc_score, precision_recall_curve, auc\n",
        "import matplotlib.pyplot as plt\n",
        "# Wyświetl macierz pomyłek\n",
        "conf_matrix = confusion_matrix(y_test, y_pred)\n",
        "print('Macierz pomyłek:\\n', conf_matrix)\n",
        "\n",
        "# Oblicz pole pod krzywą ROC\n",
        "roc_auc = roc_auc_score(y_test, knn_classifier.predict_proba(X_test)[:, 1])\n",
        "print(f'Pole pod krzywą ROC: {roc_auc:.2f}')\n",
        "\n",
        "# Narysuj krzywą Precision-Recall\n",
        "precision, recall, _ = precision_recall_curve(y_test, knn_classifier.predict_proba(X_test)[:, 1])\n",
        "pr_auc = auc(recall, precision)\n",
        "plt.figure(figsize=(8, 6))\n",
        "plt.plot(recall, precision, label=f'Precision-Recall AUC = {pr_auc:.2f}')\n",
        "plt.xlabel('Recall')\n",
        "plt.ylabel('Precision')\n",
        "plt.title('Krzywa Precision-Recall')\n",
        "plt.legend()\n",
        "plt.show()"
      ],
      "metadata": {
        "colab": {
          "base_uri": "https://localhost:8080/",
          "height": 633
        },
        "id": "zQXXR95H7JQt",
        "outputId": "139c42a4-edbe-426e-d641-077e1c3b8c91"
      },
      "execution_count": 6,
      "outputs": [
        {
          "output_type": "stream",
          "name": "stdout",
          "text": [
            "Macierz pomyłek:\n",
            " [[56864     0]\n",
            " [   89     9]]\n",
            "Pole pod krzywą ROC: 0.60\n"
          ]
        },
        {
          "output_type": "display_data",
          "data": {
            "text/plain": [
              "<Figure size 800x600 with 1 Axes>"
            ],
            "image/png": "[encoded data removed]"
          },
          "metadata": {}
        }
      ]
    },
    {
      "cell_type": "code",
      "source": [
        "from imblearn.over_sampling import SMOTE\n",
        "from collections import Counter\n",
        "from sklearn.metrics import accuracy_score, classification_report, confusion_matrix, roc_auc_score, precision_recall_curve, auc\n",
        "import matplotlib.pyplot as plt\n",
        "# transform the dataset\n",
        "oversample = SMOTE()\n",
        "X_train_os, y_train_os = oversample.fit_resample(X_train, y_train)\n",
        "counter = Counter(y)\n",
        "\n",
        "\n",
        "\n",
        "# Inicjalizuj klasyfikator k-NN\n",
        "knn_classifier = KNeighborsClassifier(n_neighbors=3)  # Możesz dostosować wartość k (liczbę sąsiadów)\n",
        "\n",
        "# Trenuj klasyfikator na zbiorze treningowym (po SMOTE)\n",
        "knn_classifier.fit(X_train_os, y_train_os)\n",
        "\n",
        "# Przewiduj etykiety dla zbioru testowego\n",
        "y_pred = knn_classifier.predict(X_test)\n",
        "\n",
        "# Ocen dokładność klasyfikatora\n",
        "accuracy = accuracy_score(y_test, y_pred)\n",
        "print(f'Dokładność klasyfikatora: {accuracy:.2f}')\n",
        "\n",
        "# Wyświetl raport klasyfikacji\n",
        "classification_rep = classification_report(y_test, y_pred)\n",
        "print('Raport klasyfikacji:\\n', classification_rep)\n",
        "\n",
        "# Wyświetl macierz pomyłek\n",
        "conf_matrix = confusion_matrix(y_test, y_pred)\n",
        "print('Macierz pomyłek:\\n', conf_matrix)\n",
        "\n"
      ],
      "metadata": {
        "id": "vDeAepSY7eMN"
      },
      "execution_count": null,
      "outputs": []
    }
  ]
}