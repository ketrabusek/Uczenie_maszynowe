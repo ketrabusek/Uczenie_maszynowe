{
  "nbformat": 4,
  "nbformat_minor": 0,
  "metadata": {
    "colab": {
      "provenance": [],
      "authorship_tag": "ABX9TyO2MILVv1k/l1QwLUA3YIls",
      "include_colab_link": true
    },
    "kernelspec": {
      "name": "python3",
      "display_name": "Python 3"
    },
    "language_info": {
      "name": "python"
    }
  },
  "cells": [
    {
      "cell_type": "markdown",
      "metadata": {
        "id": "view-in-github",
        "colab_type": "text"
      },
      "source": [
        "<a href=\"https://colab.research.google.com/github/ketrabusek/Uczenie_maszynowe/blob/use_case3/zadanie3.ipynb\" target=\"_parent\"><img src=\"https://colab.research.google.com/assets/colab-badge.svg\" alt=\"Open In Colab\"/></a>"
      ]
    },
    {
      "cell_type": "code",
      "source": [
        "!pip install pandas_ta\n",
        "!pip install backtrader"
      ],
      "metadata": {
        "colab": {
          "base_uri": "https://localhost:8080/"
        },
        "id": "UDJc0ldd-v1j",
        "outputId": "72037e01-0610-4bf3-f343-49e6789ac2eb"
      },
      "execution_count": 5,
      "outputs": [
        {
          "output_type": "stream",
          "name": "stdout",
          "text": [
            "Requirement already satisfied: pandas_ta in /usr/local/lib/python3.10/dist-packages (0.3.14b0)\n",
            "Requirement already satisfied: pandas in /usr/local/lib/python3.10/dist-packages (from pandas_ta) (2.0.3)\n",
            "Requirement already satisfied: python-dateutil>=2.8.2 in /usr/local/lib/python3.10/dist-packages (from pandas->pandas_ta) (2.8.2)\n",
            "Requirement already satisfied: pytz>=2020.1 in /usr/local/lib/python3.10/dist-packages (from pandas->pandas_ta) (2023.4)\n",
            "Requirement already satisfied: tzdata>=2022.1 in /usr/local/lib/python3.10/dist-packages (from pandas->pandas_ta) (2024.1)\n",
            "Requirement already satisfied: numpy>=1.21.0 in /usr/local/lib/python3.10/dist-packages (from pandas->pandas_ta) (1.25.2)\n",
            "Requirement already satisfied: six>=1.5 in /usr/local/lib/python3.10/dist-packages (from python-dateutil>=2.8.2->pandas->pandas_ta) (1.16.0)\n",
            "Collecting backtrader\n",
            "  Downloading backtrader-1.9.78.123-py2.py3-none-any.whl (419 kB)\n",
            "\u001b[2K     \u001b[90m━━━━━━━━━━━━━━━━━━━━━━━━━━━━━━━━━━━━━━━━\u001b[0m \u001b[32m419.5/419.5 kB\u001b[0m \u001b[31m6.5 MB/s\u001b[0m eta \u001b[36m0:00:00\u001b[0m\n",
            "\u001b[?25hInstalling collected packages: backtrader\n",
            "Successfully installed backtrader-1.9.78.123\n"
          ]
        }
      ]
    },
    {
      "cell_type": "code",
      "execution_count": null,
      "metadata": {
        "colab": {
          "base_uri": "https://localhost:8080/"
        },
        "id": "aGO3s2eC-gzu",
        "outputId": "5ac1560d-5e0a-408e-c277-fef6d978cf44"
      },
      "outputs": [
        {
          "output_type": "stream",
          "name": "stderr",
          "text": [
            "\r[*********************100%%**********************]  1 of 1 completed\n"
          ]
        }
      ],
      "source": [
        "import yfinance as yf\n",
        "import numpy as np\n",
        "import pandas as pd\n",
        "from sklearn.ensemble import RandomForestClassifier\n",
        "from sklearn.model_selection import train_test_split, GridSearchCV\n",
        "from sklearn.metrics import classification_report\n",
        "import pandas_ta as ta\n",
        "import matplotlib.pyplot as plt\n",
        "\n",
        "# Pobranie danych\n",
        "ticker = 'MSFT'\n",
        "start_date = '2024-01-01'\n",
        "end_date = '2024-05-06'\n",
        "data = yf.download(ticker, start=start_date, end=end_date)\n",
        "\n",
        "# Obliczenie dodatkowych wskaźników technicznych\n",
        "data['MACD'] = ta.macd(data['Close'], fast=12, slow=26, signal=9)['MACD_12_26_9']\n",
        "data['RSI'] = ta.rsi(data['Close'], length=14)\n",
        "data['SMA50'] = ta.sma(data['Close'], length=50)\n",
        "\n",
        "# Przygotowanie danych\n",
        "data.dropna(inplace=True)\n",
        "X = data[['Open', 'High', 'Low', 'Volume', 'MACD', 'RSI', 'SMA50']]\n",
        "y = np.where(data['Close'].shift(-1) > data['Close'], 1, -1)\n",
        "X = X[:-1]\n",
        "y = y[:-1]\n",
        "\n",
        "# Podział na zbiór treningowy i testowy\n",
        "X_train, X_test, y_train, y_test = train_test_split(X, y, test_size=0.2, random_state=42)\n",
        "\n",
        "# Model Random Forest\n",
        "param_grid = {\n",
        "    'n_estimators': [50, 100, 200],\n",
        "    'max_depth': [None, 10, 20],\n",
        "    'min_samples_split': [2, 5, 10],\n",
        "    'min_samples_leaf': [1, 2, 4]\n",
        "}\n",
        "\n",
        "rf = RandomForestClassifier(random_state=42)\n",
        "grid_search = GridSearchCV(estimator=rf, param_grid=param_grid, cv=5, scoring='accuracy')\n",
        "grid_search.fit(X_train, y_train)\n",
        "best_rf = grid_search.best_estimator_\n",
        "\n",
        "# Ocena modelu\n",
        "y_pred = best_rf.predict(X_test)\n",
        "print(classification_report(y_test, y_pred))\n",
        "\n",
        "# Symulacja inwestycji\n",
        "initial_balance = 10000\n",
        "balance = initial_balance\n",
        "positions = []\n",
        "\n",
        "for i in range(len(X_test)):\n",
        "    if y_pred[i] == 1:  # sygnał kupna\n",
        "        buy_price = X_test.iloc[i]['Open']\n",
        "        shares = balance / buy_price\n",
        "        balance -= shares * buy_price\n",
        "        positions.append((shares, buy_price))\n",
        "    elif y_pred[i] == -1 and positions:  # sygnał sprzedaży\n",
        "        shares, buy_price = positions.pop()\n",
        "        sell_price = X_test.iloc[i]['Open']\n",
        "        balance += shares * sell_price\n",
        "\n",
        "# Wartość końcowa portfela\n",
        "final_balance = balance + sum(shares * X_test.iloc[-1]['Close'] for shares, _ in positions)\n",
        "print(f\"Initial balance: ${initial_balance:.2f}\")\n",
        "print(f\"Final balance: ${final_balance:.2f}\")\n",
        "\n",
        "# Wizualizacja\n",
        "data['Signal'] = 0\n",
        "data.loc[X_test.index, 'Signal'] = y_pred\n",
        "\n",
        "plt.figure(figsize=(14, 7))\n",
        "plt.plot(data.index, data['Close'], label='Close Price')\n",
        "plt.plot(data[data['Signal'] == 1].index, data['Close'][data['Signal'] == 1], '^', markersize=10, color='g', label='Buy Signal')\n",
        "plt.plot(data[data['Signal'] == -1].index, data['Close'][data['Signal'] == -1], 'v', markersize=10, color='r', label='Sell Signal')\n",
        "plt.title('Microsoft (MSFT) Stock Price with Buy and Sell Signals')\n",
        "plt.xlabel('Date')\n",
        "plt.ylabel('Price')\n",
        "plt.legend()\n",
        "plt.grid(True)\n",
        "plt.show()\n"
      ]
    },
    {
      "cell_type": "code",
      "source": [],
      "metadata": {
        "id": "KcpbKeQVCYY0"
      },
      "execution_count": null,
      "outputs": []
    }
  ]
}