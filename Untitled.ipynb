{
  "cells": [
    {
      "cell_type": "markdown",
      "metadata": {
        "id": "view-in-github",
        "colab_type": "text"
      },
      "source": [
        "<a href=\"https://colab.research.google.com/github/ketrabusek/Uczenie_maszynowe/blob/main/Untitled.ipynb\" target=\"_parent\"><img src=\"https://colab.research.google.com/assets/colab-badge.svg\" alt=\"Open In Colab\"/></a>"
      ]
    },
    {
      "cell_type": "code",
      "execution_count": 5,
      "metadata": {
        "id": "gLCvPb7M1XtM"
      },
      "outputs": [],
      "source": [
        "import numpy as np\n",
        "import pandas as pd\n",
        "import matplotlib.pyplot as plt\n",
        "import seaborn as sns\n",
        "\n"
      ]
    },
    {
      "cell_type": "code",
      "execution_count": 6,
      "metadata": {
        "colab": {
          "base_uri": "https://localhost:8080/"
        },
        "id": "I4Bn4sI_0DAx",
        "outputId": "802e24a5-4c53-427b-fc69-5ac0b9e6fd5d"
      },
      "outputs": [
        {
          "output_type": "stream",
          "name": "stdout",
          "text": [
            "      movieId                                      title  \\\n",
            "0           1                           Toy Story (1995)   \n",
            "1           2                             Jumanji (1995)   \n",
            "2           3                    Grumpier Old Men (1995)   \n",
            "3           4                   Waiting to Exhale (1995)   \n",
            "4           5         Father of the Bride Part II (1995)   \n",
            "...       ...                                        ...   \n",
            "9737   193581  Black Butler: Book of the Atlantic (2017)   \n",
            "9738   193583               No Game No Life: Zero (2017)   \n",
            "9739   193585                               Flint (2017)   \n",
            "9740   193587        Bungo Stray Dogs: Dead Apple (2018)   \n",
            "9741   193609        Andrew Dice Clay: Dice Rules (1991)   \n",
            "\n",
            "                                           genres  \n",
            "0     Adventure|Animation|Children|Comedy|Fantasy  \n",
            "1                      Adventure|Children|Fantasy  \n",
            "2                                  Comedy|Romance  \n",
            "3                            Comedy|Drama|Romance  \n",
            "4                                          Comedy  \n",
            "...                                           ...  \n",
            "9737              Action|Animation|Comedy|Fantasy  \n",
            "9738                     Animation|Comedy|Fantasy  \n",
            "9739                                        Drama  \n",
            "9740                             Action|Animation  \n",
            "9741                                       Comedy  \n",
            "\n",
            "[9742 rows x 3 columns]\n",
            "        userId  movieId  rating   timestamp\n",
            "0            1        1     4.0   964982703\n",
            "1            1        3     4.0   964981247\n",
            "2            1        6     4.0   964982224\n",
            "3            1       47     5.0   964983815\n",
            "4            1       50     5.0   964982931\n",
            "...        ...      ...     ...         ...\n",
            "100831     610   166534     4.0  1493848402\n",
            "100832     610   168248     5.0  1493850091\n",
            "100833     610   168250     5.0  1494273047\n",
            "100834     610   168252     5.0  1493846352\n",
            "100835     610   170875     3.0  1493846415\n",
            "\n",
            "[100836 rows x 4 columns]\n"
          ]
        }
      ],
      "source": [
        " ratings = pd.read_csv('https://s3-us-west-2.amazonaws.com/recommender-tutorial/ratings.csv')\n",
        "movies = pd.read_csv('https://s3-us-west-2.amazonaws.com/recommender-tutorial/movies.csv')\n",
        "print(movies)\n",
        "print(ratings)"
      ]
    },
    {
      "cell_type": "code",
      "source": [
        "# Przefiltrowanie filmów dla dzieci (czy gatunek zawiera słowo \"Children\")\n",
        "filmy_dla_dzieci = movies[movies['genres'].str.contains('Children')]\n",
        "\n",
        "# Policzenie liczby znalezionych filmów dla dzieci\n",
        "liczba_filmow_dla_dzieci = len(filmy_dla_dzieci)\n",
        "\n",
        "print(\"Liczba filmów dla dzieci:\", liczba_filmow_dla_dzieci)"
      ],
      "metadata": {
        "colab": {
          "base_uri": "https://localhost:8080/"
        },
        "id": "6a5jKxw7eTi2",
        "outputId": "f5742390-5f31-467b-b765-2359878029da"
      },
      "execution_count": 7,
      "outputs": [
        {
          "output_type": "stream",
          "name": "stdout",
          "text": [
            "Liczba filmów dla dzieci: 664\n"
          ]
        }
      ]
    },
    {
      "cell_type": "code",
      "source": [
        "# Połączenie danych o ocenach z danymi o filmach na podstawie kolumny 'movieId'\n",
        "oceny_i_filmy = pd.merge(ratings, movies, on='movieId')\n",
        "\n",
        "# Użycie funkcji str.extract(), aby wyodrębnić rok z tytułu filmu\n",
        "oceny_i_filmy['rok'] = oceny_i_filmy['title'].str.extract('\\((\\d{4})\\)')\n",
        "\n",
        "# Wybór tylko filmów z 1995 roku\n",
        "filmy_1995 = oceny_i_filmy[oceny_i_filmy['rok'] == '1995']\n",
        "\n",
        "# Policzenie rozkładu ocen dla filmów z 1995 roku\n",
        "rozkład_ocen = filmy_1995['rating'].value_counts().sort_index()\n",
        "\n",
        "# Wyświetlenie rozkładu ocen w formie tekstu\n",
        "print(\"Rozkład ocen filmów z 1995 roku:\")\n",
        "print(rozkład_ocen)\n",
        "\n",
        "# Tworzenie wykresu słupkowego\n",
        "plt.figure(figsize=(10, 6))\n",
        "rozkład_ocen.plot(kind='bar', color='skyblue')\n",
        "plt.title('Rozkład ocen filmów z 1995 roku')\n",
        "plt.xlabel('Ocena')\n",
        "plt.ylabel('Liczba ocen')\n",
        "plt.xticks(rotation=45)\n",
        "plt.grid(axis='y', linestyle='--', alpha=0.7)\n",
        "plt.tight_layout()\n",
        "plt.show()"
      ],
      "metadata": {
        "colab": {
          "base_uri": "https://localhost:8080/",
          "height": 833
        },
        "id": "NqmXHYGEeUFF",
        "outputId": "a6be28f4-15e4-457f-b04d-b458baf5f42d"
      },
      "execution_count": 8,
      "outputs": [
        {
          "output_type": "stream",
          "name": "stdout",
          "text": [
            "Rozkład ocen filmów z 1995 roku:\n",
            "rating\n",
            "0.5      50\n",
            "1.0     254\n",
            "1.5      75\n",
            "2.0     522\n",
            "2.5     244\n",
            "3.0    1701\n",
            "3.5     467\n",
            "4.0    1625\n",
            "4.5     308\n",
            "5.0     898\n",
            "Name: count, dtype: int64\n"
          ]
        },
        {
          "output_type": "display_data",
          "data": {
            "text/plain": [
              "<Figure size 1000x600 with 1 Axes>"
            ],
            "image/png": "[encoded data removed]"
          },
          "metadata": {}
        }
      ]
    },
    {
      "cell_type": "code",
      "source": [
        "# Przefiltrowanie filmów akcji\n",
        "filmy_akcji = oceny_i_filmy[oceny_i_filmy['genres'].str.contains('Action')]\n",
        "\n",
        "# Obliczenie średniej ocen dla filmów akcji\n",
        "srednia_ocen_akcji = filmy_akcji['rating'].mean()\n",
        "print(\"Średnia ocen dla filmów akcji:\", srednia_ocen_akcji)\n",
        "\n",
        "# Wybranie trzech filmów z najwyższymi średnimi ocenami\n",
        "top_3_filmy_akcji = filmy_akcji.groupby('title')['rating'].mean().nlargest(3)\n",
        "print(\"\\nTrzy najwyżej oceniane filmy akcji:\")\n",
        "print(top_3_filmy_akcji)\n"
      ],
      "metadata": {
        "colab": {
          "base_uri": "https://localhost:8080/"
        },
        "id": "a15oKEpleW_R",
        "outputId": "b3b3e40b-3efc-4afb-a096-6cb1c32d56c2"
      },
      "execution_count": 9,
      "outputs": [
        {
          "output_type": "stream",
          "name": "stdout",
          "text": [
            "Średnia ocen dla filmów akcji: 3.447984331646809\n",
            "\n",
            "Trzy najwyżej oceniane filmy akcji:\n",
            "title\n",
            "Alien Contamination (1980)                                         5.0\n",
            "Assignment, The (1997)                                             5.0\n",
            "Battle Royale 2: Requiem (Batoru rowaiaru II: Chinkonka) (2003)    5.0\n",
            "Name: rating, dtype: float64\n"
          ]
        }
      ]
    },
    {
      "cell_type": "code",
      "source": [
        "!pip install scikit-surprise\n",
        "from surprise import Dataset, Reader, SVD, KNNWithMeans\n",
        "from surprise.model_selection import GridSearchCV, cross_validate\n"
      ],
      "metadata": {
        "colab": {
          "base_uri": "https://localhost:8080/"
        },
        "id": "MQYkBscyeZfH",
        "outputId": "f13a7ddd-efc6-4e32-8ccd-84fa957a796d"
      },
      "execution_count": 10,
      "outputs": [
        {
          "output_type": "stream",
          "name": "stdout",
          "text": [
            "Requirement already satisfied: scikit-surprise in /usr/local/lib/python3.10/dist-packages (1.1.3)\n",
            "Requirement already satisfied: joblib>=1.0.0 in /usr/local/lib/python3.10/dist-packages (from scikit-surprise) (1.4.0)\n",
            "Requirement already satisfied: numpy>=1.17.3 in /usr/local/lib/python3.10/dist-packages (from scikit-surprise) (1.25.2)\n",
            "Requirement already satisfied: scipy>=1.3.2 in /usr/local/lib/python3.10/dist-packages (from scikit-surprise) (1.11.4)\n"
          ]
        }
      ]
    },
    {
      "cell_type": "code",
      "source": [
        "# Wczytanie danych\n",
        "reader = Reader(rating_scale=(0.5, 5))\n",
        "data = Dataset.load_from_df(ratings[['userId', 'movieId', 'rating']], reader)\n"
      ],
      "metadata": {
        "id": "yOW8cOxCecNX"
      },
      "execution_count": 11,
      "outputs": []
    },
    {
      "cell_type": "code",
      "source": [
        "# Definicja modelu SVD\n",
        "svd_model = SVD()\n",
        "\n",
        "# Hiperparametryzacja za pomocą GridSearch\n",
        "param_grid_svd = {'n_factors': [50, 100, 150], 'lr_all': [0.005, 0.01, 0.02], 'reg_all': [0.02, 0.04, 0.06]}\n",
        "grid_search_svd = GridSearchCV(SVD, param_grid_svd, measures=['rmse', 'mae'], cv=5, n_jobs=-1)\n",
        "\n",
        "# Dopasowanie modelu\n",
        "grid_search_svd.fit(data)\n"
      ],
      "metadata": {
        "id": "twJ8Z1EhebaD"
      },
      "execution_count": 12,
      "outputs": []
    },
    {
      "cell_type": "code",
      "source": [
        "# Definicja modelu kNN with Means\n",
        "knn_model = KNNWithMeans()\n",
        "\n",
        "# Hiperparametryzacja za pomocą GridSearch\n",
        "param_grid_knn = {'k': list(range(3, 10)), 'sim_options': {'name': ['cosine', 'pearson'], 'user_based': [True]}}\n",
        "grid_search_knn = GridSearchCV(KNNWithMeans, param_grid_knn, measures=['rmse', 'mae'], cv=3, n_jobs=-1)\n"
      ],
      "metadata": {
        "id": "csA7oQbxeeuV"
      },
      "execution_count": 19,
      "outputs": []
    },
    {
      "cell_type": "code",
      "source": [
        "\n",
        "# Dopasowanie modelu\n",
        "grid_search_knn.fit(data)"
      ],
      "metadata": {
        "id": "qn6Y7ETMkCp4"
      },
      "execution_count": 20,
      "outputs": []
    },
    {
      "cell_type": "markdown",
      "source": [
        "Algorytm kNN with Means różni się od standardowego algorytmu kNN (k-Nearest Neighbors) tym, że dodaje on uśrednianie ocen użytkownika. Oznacza to, że zamiast bezpośredniego przewidywania oceny na podstawie ocen najbliższych sąsiadów, algorytm kNN with Means uwzględnia średnią ocen użytkownika. Dzięki temu można lepiej radzić sobie z problemami takimi jak brak danych lub niestabilne oceny."
      ],
      "metadata": {
        "id": "k2xxBsPpeiKH"
      }
    },
    {
      "cell_type": "code",
      "source": [
        "# Ocena wydajności modelu SVD\n",
        "svd_cv_results = cross_validate(grid_search_svd.best_estimator['rmse'], data, measures=['RMSE', 'MAE'], cv=5, verbose=True)\n",
        "\n",
        "# Ocena wydajności modelu kNN with Means\n",
        "knn_cv_results = cross_validate(grid_search_knn.best_estimator['rmse'], data, measures=['RMSE', 'MAE'], cv=5, verbose=True)\n"
      ],
      "metadata": {
        "colab": {
          "base_uri": "https://localhost:8080/"
        },
        "id": "g161vs83ejoL",
        "outputId": "e9f2248a-3472-46fe-f1e1-c1071cc89e97"
      },
      "execution_count": 21,
      "outputs": [
        {
          "output_type": "stream",
          "name": "stdout",
          "text": [
            "Evaluating RMSE, MAE of algorithm SVD on 5 split(s).\n",
            "\n",
            "                  Fold 1  Fold 2  Fold 3  Fold 4  Fold 5  Mean    Std     \n",
            "RMSE (testset)    0.8598  0.8501  0.8571  0.8456  0.8551  0.8535  0.0051  \n",
            "MAE (testset)     0.6551  0.6522  0.6578  0.6468  0.6573  0.6538  0.0040  \n",
            "Fit time          1.96    1.98    1.96    2.34    2.33    2.12    0.18    \n",
            "Test time         0.16    0.13    0.67    0.20    0.12    0.26    0.21    \n",
            "Computing the pearson similarity matrix...\n",
            "Done computing similarity matrix.\n",
            "Computing the pearson similarity matrix...\n",
            "Done computing similarity matrix.\n",
            "Computing the pearson similarity matrix...\n",
            "Done computing similarity matrix.\n",
            "Computing the pearson similarity matrix...\n",
            "Done computing similarity matrix.\n",
            "Computing the pearson similarity matrix...\n",
            "Done computing similarity matrix.\n",
            "Evaluating RMSE, MAE of algorithm KNNWithMeans on 5 split(s).\n",
            "\n",
            "                  Fold 1  Fold 2  Fold 3  Fold 4  Fold 5  Mean    Std     \n",
            "RMSE (testset)    0.9155  0.9164  0.9069  0.9065  0.9117  0.9114  0.0041  \n",
            "MAE (testset)     0.6983  0.7001  0.6935  0.6932  0.6971  0.6965  0.0027  \n",
            "Fit time          0.30    0.28    0.28    0.28    0.28    0.28    0.01    \n",
            "Test time         1.62    1.57    1.11    1.10    1.19    1.32    0.23    \n"
          ]
        }
      ]
    },
    {
      "cell_type": "code",
      "source": [
        "# Ocena wydajności modelu SVD\n",
        "svd_cv_results = cross_validate(grid_search_svd.best_estimator['rmse'], data, measures=['RMSE', 'MAE'], cv=5, verbose=True)\n",
        "\n",
        "# Ocena wydajności modelu kNN with Means\n",
        "knn_cv_results = cross_validate(grid_search_knn.best_estimator['rmse'], data, measures=['RMSE', 'MAE'], cv=5, verbose=True)\n"
      ],
      "metadata": {
        "colab": {
          "base_uri": "https://localhost:8080/"
        },
        "id": "_F3u6hf8ek1s",
        "outputId": "985e2b44-8e3f-46a2-dc86-dad1d33ba964"
      },
      "execution_count": 22,
      "outputs": [
        {
          "output_type": "stream",
          "name": "stdout",
          "text": [
            "Evaluating RMSE, MAE of algorithm SVD on 5 split(s).\n",
            "\n",
            "                  Fold 1  Fold 2  Fold 3  Fold 4  Fold 5  Mean    Std     \n",
            "RMSE (testset)    0.8559  0.8548  0.8507  0.8480  0.8569  0.8533  0.0034  \n",
            "MAE (testset)     0.6546  0.6534  0.6518  0.6532  0.6563  0.6538  0.0015  \n",
            "Fit time          2.93    1.98    1.94    1.95    2.42    2.24    0.39    \n",
            "Test time         0.13    0.13    0.13    0.60    0.21    0.24    0.18    \n",
            "Computing the pearson similarity matrix...\n",
            "Done computing similarity matrix.\n",
            "Computing the pearson similarity matrix...\n",
            "Done computing similarity matrix.\n",
            "Computing the pearson similarity matrix...\n",
            "Done computing similarity matrix.\n",
            "Computing the pearson similarity matrix...\n",
            "Done computing similarity matrix.\n",
            "Computing the pearson similarity matrix...\n",
            "Done computing similarity matrix.\n",
            "Evaluating RMSE, MAE of algorithm KNNWithMeans on 5 split(s).\n",
            "\n",
            "                  Fold 1  Fold 2  Fold 3  Fold 4  Fold 5  Mean    Std     \n",
            "RMSE (testset)    0.9128  0.9107  0.9023  0.9112  0.9143  0.9103  0.0042  \n",
            "MAE (testset)     0.6954  0.6966  0.6917  0.6963  0.6985  0.6957  0.0022  \n",
            "Fit time          0.49    0.28    0.28    0.28    0.27    0.32    0.08    \n",
            "Test time         1.24    1.16    1.58    1.12    1.11    1.24    0.18    \n"
          ]
        }
      ]
    },
    {
      "cell_type": "code",
      "source": [
        "# Funkcja do generowania rekomendacji dla danego filmu\n",
        "def recommend_movies(model, movie_title, n=5):\n",
        "    # Pobranie movieId danego filmu\n",
        "    movie_id = movies[movies['title'].str.contains(movie_title, case=False)]['movieId'].values[0]\n",
        "\n",
        "    # Generowanie rekomendacji dla danego movieId\n",
        "    movie_recs = model.get_neighbors(movie_id, k=n)\n",
        "\n",
        "    # Pobranie tytułów rekomendowanych filmów\n",
        "    recommended_movies = movies[movies['movieId'].isin(movie_recs)]['title']\n",
        "\n",
        "    return recommended_movies\n",
        "\n",
        "# Rekomendacje dla filmu \"NeverEnding Story III\"\n",
        "print(\"Rekomendacje po obejrzeniu filmu 'NeverEnding Story III':\")\n",
        "print(recommend_movies(grid_search_knn.best_estimator['rmse'], \"NeverEnding Story III\"))\n",
        "\n",
        "# Rekomendacje dla filmu \"Pi\"\n",
        "print(\"\\nRekomendacje po obejrzeniu filmu 'Pi':\")\n",
        "print(recommend_movies(grid_search_knn.best_estimator['rmse'], \"Pi\"))\n"
      ],
      "metadata": {
        "colab": {
          "base_uri": "https://localhost:8080/"
        },
        "id": "s98sYrgFlLfu",
        "outputId": "c0fb2d70-48e0-4ca9-eb71-af639d03a2f7"
      },
      "execution_count": 23,
      "outputs": [
        {
          "output_type": "stream",
          "name": "stdout",
          "text": [
            "Rekomendacje po obejrzeniu filmu 'NeverEnding Story III':\n",
            "110     Jupiter's Wife (1994)\n",
            "190             Clerks (1994)\n",
            "305        Bitter Moon (1992)\n",
            "316    Higher Learning (1995)\n",
            "Name: title, dtype: object\n",
            "\n",
            "Rekomendacje po obejrzeniu filmu 'Pi':\n",
            "243              Nobody's Fool (1994)\n",
            "450    Remains of the Day, The (1993)\n",
            "487              War Room, The (1993)\n",
            "Name: title, dtype: object\n"
          ]
        }
      ]
    }
  ],
  "metadata": {
    "colab": {
      "provenance": [],
      "authorship_tag": "ABX9TyOzqZYeRbyDyobyh/4xJqQe",
      "include_colab_link": true
    },
    "kernelspec": {
      "display_name": "Python 3",
      "name": "python3"
    },
    "language_info": {
      "name": "python"
    }
  },
  "nbformat": 4,
  "nbformat_minor": 0
}